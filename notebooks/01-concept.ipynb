{
 "cells": [
  {
   "cell_type": "markdown",
   "id": "d084238a",
   "metadata": {},
   "source": [
    "# Concept of AgentMemory package"
   ]
  },
  {
   "cell_type": "markdown",
   "id": "6ff6f8c9",
   "metadata": {},
   "source": [
    "## Notebook Initialization"
   ]
  },
  {
   "cell_type": "code",
   "execution_count": 1,
   "id": "243fbc8d",
   "metadata": {},
   "outputs": [],
   "source": [
    "import sys\n",
    "\n",
    "sys.path.append(\"../src\")"
   ]
  },
  {
   "cell_type": "code",
   "execution_count": 2,
   "id": "1906b994",
   "metadata": {},
   "outputs": [
    {
     "data": {
      "text/plain": [
       "<agentmemory.memory.conversations.Conversations at 0x107b99590>"
      ]
     },
     "execution_count": 2,
     "metadata": {},
     "output_type": "execute_result"
    }
   ],
   "source": [
    "from agentmemory import AgentMemory\n",
    "from agentmemory.connection import AgentMemoryConnection\n",
    "from agentmemory.connection.longterm import MongoDBConnection\n",
    "\n",
    "con = AgentMemoryConnection(\n",
    "    longterm_con=MongoDBConnection(\n",
    "        mongo_uri=\"mongodb://localhost:27017\",\n",
    "        database=\"agentmemory-dev\"\n",
    "    ),\n",
    "    shortterm_con=None\n",
    ")\n",
    "\n",
    "memory = AgentMemory(\"typecode-agent\", con=con)\n",
    "\n",
    "memory.conversations"
   ]
  },
  {
   "cell_type": "markdown",
   "id": "faaef61b",
   "metadata": {},
   "source": [
    "## Datamodel"
   ]
  },
  {
   "cell_type": "markdown",
   "id": "ab6a2a52",
   "metadata": {},
   "source": [
    "### Conversations"
   ]
  },
  {
   "cell_type": "code",
   "execution_count": 3,
   "id": "53f302cf",
   "metadata": {},
   "outputs": [
    {
     "data": {
      "text/plain": [
       "Conversation(title='New Conversation 17df32ead-27f2-47ff-89b9-a74d605a1ed3', _id='6874ecf36a0f76356d561c80', conversation_id='175c08ce31424d44afffb45d89a8516b', data={}, created_at='2025-07-14T11:41:39.158050+00:00', updated_at='2025-07-14T11:41:39.158061+00:00')"
      ]
     },
     "execution_count": 3,
     "metadata": {},
     "output_type": "execute_result"
    }
   ],
   "source": [
    "from agentmemory.schema.conversations import Conversation\n",
    "from uuid import uuid4\n",
    "\n",
    "conversation = Conversation(\n",
    "    title=\"New Conversation 1\" + str(uuid4()),\n",
    ")\n",
    "\n",
    "conversation_2 = Conversation(\n",
    "    title=\"New Conversation 2\" + str(uuid4()),\n",
    ")\n",
    "\n",
    "res = memory.conversations.create(conversation)\n",
    "res_2 = memory.conversations.create(conversation_2)\n",
    "res"
   ]
  },
  {
   "cell_type": "code",
   "execution_count": 4,
   "id": "e0ca7f4d",
   "metadata": {},
   "outputs": [
    {
     "data": {
      "text/plain": [
       "[Conversation(title='New Conversation 287d44d7e-74c8-4202-a5bc-873022007750', _id=ObjectId('6874c395608cd154cce9fc81'), conversation_id='3eba2baa2d034db888a85f8d1d393e6e', data={}, created_at='2025-07-14T08:45:09.370220+00:00', updated_at='2025-07-14T08:45:09.370236+00:00'),\n",
       " Conversation(title='Updated Conversation Title', _id=ObjectId('6874d9d426dacfd5b678be42'), conversation_id='9dcb11c0b0264ddc848e1c4e13648e1b', data={}, created_at='2025-07-14T10:20:04.276086+00:00', updated_at='2025-07-14T10:20:04.300186+00:00'),\n",
       " Conversation(title='New Conversation 2ab0a2b7e-d12e-4620-bc1e-5af449927142', _id=ObjectId('6874d9d426dacfd5b678be43'), conversation_id='22b92f2862b549199d33abbd4904b60c', data={}, created_at='2025-07-14T10:20:04.276143+00:00', updated_at='2025-07-14T10:20:04.276147+00:00'),\n",
       " Conversation(title='Updated Conversation Title', _id=ObjectId('6874da1826dacfd5b678be44'), conversation_id='337faef091764cf3acbaf7ab008f6c65', data={}, created_at='2025-07-14T10:21:12.435440+00:00', updated_at='2025-07-14T10:21:16.846318+00:00'),\n",
       " Conversation(title='New Conversation 220bfa42b-ea2f-4529-8a4f-42b61639e70c', _id=ObjectId('6874da1826dacfd5b678be45'), conversation_id='309caf3bf75b4e8091113e538b7757d3', data={}, created_at='2025-07-14T10:21:12.435518+00:00', updated_at='2025-07-14T10:21:12.435522+00:00'),\n",
       " Conversation(title='New Conversation 26f51a566-3858-41f1-a10c-13f2d5c3a6a3', _id=ObjectId('6874db70b0e1bda8d1eabf02'), conversation_id='b000184d255b46b694d475b57db67881', data={}, created_at='2025-07-14T10:26:56.793751+00:00', updated_at='2025-07-14T10:26:56.793756+00:00'),\n",
       " Conversation(title='New Conversation 1487121cc-3497-4978-9cda-98269a1c4dae', _id=ObjectId('6874dd186de233ce3ac72ca0'), conversation_id='57f9e8004b984e51bd45055507c8ca6e', data={}, created_at='2025-07-14T10:34:00.107983+00:00', updated_at='2025-07-14T10:34:00.107997+00:00'),\n",
       " Conversation(title='New Conversation 2d8ce93a4-e20b-465f-b9cb-24f0c181e2a5', _id=ObjectId('6874dd186de233ce3ac72ca1'), conversation_id='f857c8fb672f4f18ad9e7cbdbe0cf9cf', data={}, created_at='2025-07-14T10:34:00.108107+00:00', updated_at='2025-07-14T10:34:00.108114+00:00'),\n",
       " Conversation(title='New Conversation 1573ea717-3cbe-4a62-8dec-430d88805eb5', _id=ObjectId('6874ece16de233ce3ac72ca4'), conversation_id='e659764e17e846f8ba0cb355d655fd8c', data={}, created_at='2025-07-14T11:41:21.491000+00:00', updated_at='2025-07-14T11:41:21.491010+00:00'),\n",
       " Conversation(title='New Conversation 2bc04ec98-eb80-4f07-96f6-55cc520109d6', _id=ObjectId('6874ece16de233ce3ac72ca5'), conversation_id='c6cb92de35494c379eb4a7827164f48d', data={}, created_at='2025-07-14T11:41:21.491077+00:00', updated_at='2025-07-14T11:41:21.491081+00:00'),\n",
       " Conversation(title='New Conversation 17df32ead-27f2-47ff-89b9-a74d605a1ed3', _id=ObjectId('6874ecf36a0f76356d561c80'), conversation_id='175c08ce31424d44afffb45d89a8516b', data={}, created_at='2025-07-14T11:41:39.158050+00:00', updated_at='2025-07-14T11:41:39.158061+00:00'),\n",
       " Conversation(title='New Conversation 271c16944-b9ed-477d-9414-65c3b6b29465', _id=ObjectId('6874ecf36a0f76356d561c81'), conversation_id='7583b09efd854677a304695cba2d9233', data={}, created_at='2025-07-14T11:41:39.158126+00:00', updated_at='2025-07-14T11:41:39.158131+00:00')]"
      ]
     },
     "execution_count": 4,
     "metadata": {},
     "output_type": "execute_result"
    }
   ],
   "source": [
    "l = [d for d in memory.conversations.list()]\n",
    "l"
   ]
  },
  {
   "cell_type": "code",
   "execution_count": 5,
   "id": "602769d0",
   "metadata": {},
   "outputs": [
    {
     "data": {
      "text/plain": [
       "Conversation(title='Updated Conversation Title', _id='6874ecf36a0f76356d561c80', conversation_id='175c08ce31424d44afffb45d89a8516b', data={}, created_at='2025-07-14T11:41:39.158050+00:00', updated_at='2025-07-14T11:41:43.392486+00:00')"
      ]
     },
     "execution_count": 5,
     "metadata": {},
     "output_type": "execute_result"
    }
   ],
   "source": [
    "conversation.title = \"Updated Conversation Title\"\n",
    "\n",
    "updated_conversation = memory.conversations.update(res)\n",
    "updated_conversation"
   ]
  },
  {
   "cell_type": "code",
   "execution_count": 6,
   "id": "c60f9288",
   "metadata": {},
   "outputs": [
    {
     "data": {
      "text/plain": [
       "Conversation(title='Updated Conversation Title', _id=ObjectId('6874ecf36a0f76356d561c80'), conversation_id='175c08ce31424d44afffb45d89a8516b', data={}, created_at='2025-07-14T11:41:39.158050+00:00', updated_at='2025-07-14T11:41:43.392486+00:00')"
      ]
     },
     "execution_count": 6,
     "metadata": {},
     "output_type": "execute_result"
    }
   ],
   "source": [
    "memory.conversations.get(updated_conversation.conversation_id)"
   ]
  },
  {
   "cell_type": "code",
   "execution_count": null,
   "id": "ab8c92a7",
   "metadata": {},
   "outputs": [],
   "source": [
    "l = [d for d in memory.conversations.list()]\n",
    "l"
   ]
  },
  {
   "cell_type": "code",
   "execution_count": 7,
   "id": "e5c7311a",
   "metadata": {},
   "outputs": [],
   "source": [
    "r = memory.conversations.delete(updated_conversation.conversation_id, cascade=True)\n",
    "r"
   ]
  },
  {
   "cell_type": "code",
   "execution_count": 7,
   "id": "ec2d914f",
   "metadata": {},
   "outputs": [
    {
     "data": {
      "text/plain": [
       "Conversation(title='New Conversation 287d44d7e-74c8-4202-a5bc-873022007750', _id=ObjectId('6874c395608cd154cce9fc81'), conversation_id='3eba2baa2d034db888a85f8d1d393e6e', data={}, created_at='2025-07-14T08:45:09.370220+00:00', updated_at='2025-07-14T08:45:09.370236+00:00')"
      ]
     },
     "execution_count": 7,
     "metadata": {},
     "output_type": "execute_result"
    }
   ],
   "source": [
    "conversation_1 = next(memory.conversations.list())\n",
    "conversation_1"
   ]
  },
  {
   "cell_type": "code",
   "execution_count": 11,
   "id": "7f5a99d1",
   "metadata": {},
   "outputs": [],
   "source": [
    "r = memory.conversations.delete(conversation_1.conversation_id, cascade=True)\n",
    "r"
   ]
  },
  {
   "cell_type": "markdown",
   "id": "58f9762c",
   "metadata": {},
   "source": [
    "### ConversationItems"
   ]
  },
  {
   "cell_type": "code",
   "execution_count": 13,
   "id": "fecc1d74",
   "metadata": {},
   "outputs": [
    {
     "data": {
      "text/plain": [
       "ConversationItem(conversation_id='3eba2baa2d034db888a85f8d1d393e6e', role='user', content='New item content', _id='6874ed436a0f76356d561c83', item_id='33dde36760ad407e865d7462452b4745', data={'source': 'test_source'}, created_at='2025-07-14T11:42:59.892681+00:00', updated_at='2025-07-14T11:42:59.892694+00:00')"
      ]
     },
     "execution_count": 13,
     "metadata": {},
     "output_type": "execute_result"
    }
   ],
   "source": [
    "from agentmemory.schema.conversations import ConversationItem\n",
    "\n",
    "item = ConversationItem(\n",
    "    conversation_id=conversation_1.conversation_id,\n",
    "    # conversation_id=\"b000184d255b46b694d475b57db67881\",\n",
    "    content=\"New item content\",\n",
    "    role=\"user\",\n",
    "    data={\"source\": \"test_source\"}\n",
    ")\n",
    "item_created = memory.conversation_items.create(item)\n",
    "item_created"
   ]
  },
  {
   "cell_type": "code",
   "execution_count": 14,
   "id": "fe58d66f",
   "metadata": {},
   "outputs": [
    {
     "data": {
      "text/plain": [
       "[ConversationItem(conversation_id='b000184d255b46b694d475b57db67881', role='user', content='New item content', _id=ObjectId('6874dc6f9904626b8cb1d8fe'), item_id='9b3da64095304f5aa69105502eda501e', data={'source': 'test_source'}, created_at='2025-07-14T10:31:11.995088+00:00', updated_at='2025-07-14T10:31:11.995094+00:00'),\n",
       " ConversationItem(conversation_id='b000184d255b46b694d475b57db67881', role='user', content='New item content', _id=ObjectId('6874dc709904626b8cb1d8ff'), item_id='38f9b58285fa46879e1622a5a342c608', data={'source': 'test_source'}, created_at='2025-07-14T10:31:12.589647+00:00', updated_at='2025-07-14T10:31:12.589656+00:00'),\n",
       " ConversationItem(conversation_id='b000184d255b46b694d475b57db67881', role='user', content='New item content', _id=ObjectId('6874dc709904626b8cb1d900'), item_id='2fc2007b36d34655932410a590ffede0', data={'source': 'test_source'}, created_at='2025-07-14T10:31:12.956162+00:00', updated_at='2025-07-14T10:31:12.956171+00:00'),\n",
       " ConversationItem(conversation_id='b000184d255b46b694d475b57db67881', role='user', content='New item content', _id=ObjectId('6874dc719904626b8cb1d901'), item_id='57d08cb55ae748ef8f8e472f28513478', data={'source': 'test_source'}, created_at='2025-07-14T10:31:13.366005+00:00', updated_at='2025-07-14T10:31:13.366013+00:00'),\n",
       " ConversationItem(conversation_id='b000184d255b46b694d475b57db67881', role='user', content='New item content', _id=ObjectId('6874dd076de233ce3ac72c9e'), item_id='149e1b05d9ec436c8527febbe6f63300', data={'source': 'test_source'}, created_at='2025-07-14T10:33:43.848216+00:00', updated_at='2025-07-14T10:33:43.848222+00:00'),\n",
       " ConversationItem(conversation_id='b000184d255b46b694d475b57db67881', role='user', content='New item content', _id=ObjectId('6874dd146de233ce3ac72c9f'), item_id='1b67d9827fc1444c9167ec6609e6fb13', data={'source': 'test_source'}, created_at='2025-07-14T10:33:56.872980+00:00', updated_at='2025-07-14T10:33:56.872991+00:00'),\n",
       " ConversationItem(conversation_id='3eba2baa2d034db888a85f8d1d393e6e', role='user', content='New item content', _id=ObjectId('6874ed436a0f76356d561c83'), item_id='33dde36760ad407e865d7462452b4745', data={'source': 'test_source'}, created_at='2025-07-14T11:42:59.892681+00:00', updated_at='2025-07-14T11:42:59.892694+00:00')]"
      ]
     },
     "execution_count": 14,
     "metadata": {},
     "output_type": "execute_result"
    }
   ],
   "source": [
    "[d for d in memory.conversation_items.list()]"
   ]
  },
  {
   "cell_type": "code",
   "execution_count": 16,
   "id": "2f07148d",
   "metadata": {},
   "outputs": [
    {
     "data": {
      "text/plain": [
       "[ConversationItem(conversation_id='3eba2baa2d034db888a85f8d1d393e6e', role='user', content='New item content', _id=ObjectId('6874ed436a0f76356d561c83'), item_id='33dde36760ad407e865d7462452b4745', data={'source': 'test_source'}, created_at='2025-07-14T11:42:59.892681+00:00', updated_at='2025-07-14T11:42:59.892694+00:00')]"
      ]
     },
     "execution_count": 16,
     "metadata": {},
     "output_type": "execute_result"
    }
   ],
   "source": [
    "[i for i in memory.conversation_items.list_by_conversation_id(conversation_1.conversation_id)]"
   ]
  },
  {
   "cell_type": "code",
   "execution_count": 12,
   "id": "1c23306f",
   "metadata": {},
   "outputs": [
    {
     "data": {
      "text/plain": [
       "[ConversationItem(conversation_id='3eba2baa2d034db888a85f8d1d393e6e', role='user', content='Updated item content', _id=ObjectId('6874c3c9608cd154cce9fc82'), item_id='6114519c58ab44be957a2ed245bfb012', data={'source': 'test_source'}, created_at='2025-07-14T08:46:01.952297+00:00', updated_at='2025-07-14T08:47:31.082819+00:00'),\n",
       " ConversationItem(conversation_id='3eba2baa2d034db888a85f8d1d393e6e', role='user', content='New item content', _id=ObjectId('6874db8fb0e1bda8d1eabf03'), item_id='aae06f340f3f4b8a98f9608262e3707d', data={'source': 'test_source'}, created_at='2025-07-14T10:27:27.579065+00:00', updated_at='2025-07-14T10:27:27.579075+00:00'),\n",
       " ConversationItem(conversation_id='3eba2baa2d034db888a85f8d1d393e6e', role='user', content='New item content', _id=ObjectId('6874dc049904626b8cb1d8f9'), item_id='c9f9402ccc3d4f5491e5b7c235b63fef', data={'source': 'test_source'}, created_at='2025-07-14T10:29:24.174138+00:00', updated_at='2025-07-14T10:29:24.174147+00:00'),\n",
       " ConversationItem(conversation_id='3eba2baa2d034db888a85f8d1d393e6e', role='user', content='New item content', _id=ObjectId('6874dc079904626b8cb1d8fa'), item_id='f36e0b5e303643f5bfec415ee9743abf', data={'source': 'test_source'}, created_at='2025-07-14T10:29:27.559174+00:00', updated_at='2025-07-14T10:29:27.559184+00:00')]"
      ]
     },
     "execution_count": 12,
     "metadata": {},
     "output_type": "execute_result"
    }
   ],
   "source": [
    "[d for d in memory.conversation_items.list_until_id_found(conversation_1.conversation_id, \"f36e0b5e303643f5bfec415ee9743abf\")]"
   ]
  },
  {
   "cell_type": "code",
   "execution_count": 17,
   "id": "984c3692",
   "metadata": {},
   "outputs": [
    {
     "data": {
      "text/plain": [
       "ConversationItem(conversation_id='3eba2baa2d034db888a85f8d1d393e6e', role='user', content='New item content', _id=ObjectId('6874ed436a0f76356d561c83'), item_id='33dde36760ad407e865d7462452b4745', data={'source': 'test_source'}, created_at='2025-07-14T11:42:59.892681+00:00', updated_at='2025-07-14T11:42:59.892694+00:00')"
      ]
     },
     "execution_count": 17,
     "metadata": {},
     "output_type": "execute_result"
    }
   ],
   "source": [
    "memory.conversation_items.get(conversation_1.conversation_id, item_created.item_id)"
   ]
  },
  {
   "cell_type": "code",
   "execution_count": 18,
   "id": "86dd01ca",
   "metadata": {},
   "outputs": [
    {
     "data": {
      "text/plain": [
       "ConversationItem(conversation_id='3eba2baa2d034db888a85f8d1d393e6e', role='user', content='Updated item content', _id='6874ed436a0f76356d561c83', item_id='33dde36760ad407e865d7462452b4745', data={'source': 'test_source'}, created_at='2025-07-14T11:42:59.892681+00:00', updated_at='2025-07-14T11:43:29.625947+00:00')"
      ]
     },
     "execution_count": 18,
     "metadata": {},
     "output_type": "execute_result"
    }
   ],
   "source": [
    "item_created.content = \"Updated item content\"\n",
    "item_updated = memory.conversation_items.update(item_created)\n",
    "item_updated"
   ]
  },
  {
   "cell_type": "code",
   "execution_count": 21,
   "id": "9816cf2b",
   "metadata": {},
   "outputs": [
    {
     "data": {
      "text/plain": [
       "[]"
      ]
     },
     "execution_count": 21,
     "metadata": {},
     "output_type": "execute_result"
    }
   ],
   "source": [
    "[i for i in memory.conversation_items.list_by_conversation_id(conversation_1.conversation_id)]"
   ]
  },
  {
   "cell_type": "code",
   "execution_count": 20,
   "id": "4e685c47",
   "metadata": {},
   "outputs": [],
   "source": [
    "memory.conversation_items.delete(conversation_1.conversation_id, \"33dde36760ad407e865d7462452b4745\")"
   ]
  },
  {
   "cell_type": "markdown",
   "id": "42e9a591",
   "metadata": {},
   "source": [
    "### Personas"
   ]
  },
  {
   "cell_type": "code",
   "execution_count": 22,
   "id": "163ed19a",
   "metadata": {},
   "outputs": [
    {
     "data": {
      "text/plain": [
       "Persona(name='Test Persona', role='role', goals='This is a test persona', background='background', _id='6874ed8c6a0f76356d561c84', persona_id='90241714ab544d12bbacf546a66187dd', embedding=None, created_at='2025-07-14T11:44:12.443383+00:00', updated_at='2025-07-14T11:44:12.443393+00:00')"
      ]
     },
     "execution_count": 22,
     "metadata": {},
     "output_type": "execute_result"
    }
   ],
   "source": [
    "from agentmemory.schema.personas import Persona\n",
    "\n",
    "persona = Persona(\n",
    "    name=\"Test Persona\",\n",
    "    role=\"role\",\n",
    "    background=\"background\",\n",
    "    goals=\"This is a test persona\"\n",
    ")\n",
    "persona_created = memory.personas.create(persona)  # TODO\n",
    "persona_created"
   ]
  },
  {
   "cell_type": "code",
   "execution_count": 23,
   "id": "cecf39d0",
   "metadata": {},
   "outputs": [
    {
     "data": {
      "text/plain": [
       "Persona(name='Test Persona', role='role', goals='This is a test persona', background='background', _id=ObjectId('6874ed8c6a0f76356d561c84'), persona_id='90241714ab544d12bbacf546a66187dd', embedding=None, created_at='2025-07-14T11:44:12.443383+00:00', updated_at='2025-07-14T11:44:12.443393+00:00')"
      ]
     },
     "execution_count": 23,
     "metadata": {},
     "output_type": "execute_result"
    }
   ],
   "source": [
    "memory.personas.get(persona_created.persona_id)"
   ]
  },
  {
   "cell_type": "code",
   "execution_count": 24,
   "id": "e0b77924",
   "metadata": {},
   "outputs": [
    {
     "data": {
      "text/plain": [
       "[Persona(name='Updated Persona Name', role='role', goals='This is a test persona', background='background', _id=ObjectId('6874c535608cd154cce9fc84'), persona_id='caf483721e4a423b8cb4a9f8d664d90d', embedding=None, created_at='2025-07-14T08:52:05.201904+00:00', updated_at='2025-07-14T08:53:29.047120+00:00'),\n",
       " Persona(name='Test Persona', role='role', goals='This is a test persona', background='background', _id=ObjectId('6874ed8c6a0f76356d561c84'), persona_id='90241714ab544d12bbacf546a66187dd', embedding=None, created_at='2025-07-14T11:44:12.443383+00:00', updated_at='2025-07-14T11:44:12.443393+00:00')]"
      ]
     },
     "execution_count": 24,
     "metadata": {},
     "output_type": "execute_result"
    }
   ],
   "source": [
    "[p for p in memory.personas.list()]"
   ]
  },
  {
   "cell_type": "code",
   "execution_count": 25,
   "id": "dd9543c0",
   "metadata": {},
   "outputs": [
    {
     "data": {
      "text/plain": [
       "[Persona(name='Updated Persona Name', role='role', goals='This is a test persona', background='background', _id=ObjectId('6874c535608cd154cce9fc84'), persona_id='caf483721e4a423b8cb4a9f8d664d90d', embedding=None, created_at='2025-07-14T08:52:05.201904+00:00', updated_at='2025-07-14T08:53:29.047120+00:00'),\n",
       " Persona(name='Test Persona', role='role', goals='This is a test persona', background='background', _id=ObjectId('6874ed8c6a0f76356d561c84'), persona_id='90241714ab544d12bbacf546a66187dd', embedding=None, created_at='2025-07-14T11:44:12.443383+00:00', updated_at='2025-07-14T11:44:12.443393+00:00')]"
      ]
     },
     "execution_count": 25,
     "metadata": {},
     "output_type": "execute_result"
    }
   ],
   "source": [
    "[p for p in memory.personas.list()]"
   ]
  },
  {
   "cell_type": "code",
   "execution_count": 26,
   "id": "d4b43b4c",
   "metadata": {},
   "outputs": [],
   "source": [
    "persona_created.name = \"Updated Persona Name\"\n",
    "updated_persona = memory.personas.update(persona_created)\n",
    "updated_persona"
   ]
  },
  {
   "cell_type": "code",
   "execution_count": null,
   "id": "3d003dea",
   "metadata": {},
   "outputs": [],
   "source": [
    "memory.personas.get(persona_created.persona_id)"
   ]
  },
  {
   "cell_type": "code",
   "execution_count": 28,
   "id": "9782cd31",
   "metadata": {},
   "outputs": [],
   "source": [
    "memory.personas.delete(persona_created.persona_id)"
   ]
  },
  {
   "cell_type": "markdown",
   "id": "955b57aa",
   "metadata": {},
   "source": [
    "### Workflows"
   ]
  },
  {
   "cell_type": "code",
   "execution_count": 32,
   "id": "781ebe95",
   "metadata": {},
   "outputs": [
    {
     "data": {
      "text/plain": [
       "Workflow(conversation_item_id='blub-1', user_query='user query', status=<WorkflowStatus.RUNNING: 'running'>, _id='6874edb36a0f76356d561c85', workflow_id='b4ab782ce1f04e8995e8061bd5102930', data={'source': 'test_source'}, created_at='2025-07-14T11:44:51.123921+00:00', updated_at='2025-07-14T11:44:51.123935+00:00')"
      ]
     },
     "execution_count": 32,
     "metadata": {},
     "output_type": "execute_result"
    }
   ],
   "source": [
    "from agentmemory.schema.workflows import Workflow, WorkflowStatus\n",
    "from uuid import uuid4\n",
    "\n",
    "workflow = Workflow(\n",
    "    conversation_item_id=\"blub-1\",\n",
    "    user_query=\"user query\",\n",
    "    status=WorkflowStatus.RUNNING,\n",
    "    data={\"source\": \"test_source\"}\n",
    ")\n",
    "\n",
    "workflow_2 = Workflow(\n",
    "    conversation_item_id=\"blub-1\",\n",
    "    user_query=\"user query 2\",\n",
    "    status=WorkflowStatus.ERROR,\n",
    "    data={\"source\": \"test_source\"}\n",
    ")\n",
    "\n",
    "res = memory.workflows.create(workflow)\n",
    "res_2 = memory.workflows.create(workflow_2)\n",
    "res"
   ]
  },
  {
   "cell_type": "code",
   "execution_count": 30,
   "id": "f5d230bd",
   "metadata": {},
   "outputs": [
    {
     "data": {
      "text/plain": [
       "[Workflow(conversation_item_id='blub-1', user_query='user query 2', status='error', _id=ObjectId('6874c8627c0672cc31a5d0b7'), workflow_id='8f6c73497b034d51b232f7da17f4ea8b', data={'source': 'test_source'}, created_at='2025-07-14T09:05:38.731584+00:00', updated_at='2025-07-14T09:05:38.731588+00:00'),\n",
       " Workflow(conversation_item_id='blub-1', user_query='user query 2', status='error', _id=ObjectId('6874c8687c0672cc31a5d0b9'), workflow_id='5a42d02f5c53485796e32b0951c4c719', data={'source': 'test_source'}, created_at='2025-07-14T09:05:44.304595+00:00', updated_at='2025-07-14T09:05:44.304606+00:00')]"
      ]
     },
     "execution_count": 30,
     "metadata": {},
     "output_type": "execute_result"
    }
   ],
   "source": [
    "[w for w in memory.workflows.list()]"
   ]
  },
  {
   "cell_type": "code",
   "execution_count": 33,
   "id": "6398585f",
   "metadata": {},
   "outputs": [
    {
     "data": {
      "text/plain": [
       "Workflow(conversation_item_id='blub-1', user_query='user query', status='running', _id=ObjectId('6874edb36a0f76356d561c85'), workflow_id='b4ab782ce1f04e8995e8061bd5102930', data={'source': 'test_source'}, created_at='2025-07-14T11:44:51.123921+00:00', updated_at='2025-07-14T11:44:51.123935+00:00')"
      ]
     },
     "execution_count": 33,
     "metadata": {},
     "output_type": "execute_result"
    }
   ],
   "source": [
    "memory.workflows.get(res.workflow_id)"
   ]
  },
  {
   "cell_type": "code",
   "execution_count": 34,
   "id": "41ae86f6",
   "metadata": {},
   "outputs": [
    {
     "data": {
      "text/plain": [
       "Workflow(conversation_item_id='blub-1', user_query='user query', status=<WorkflowStatus.SUCCESS: 'success'>, _id='6874edb36a0f76356d561c85', workflow_id='b4ab782ce1f04e8995e8061bd5102930', data={'source': 'test_source'}, created_at='2025-07-14T11:44:51.123921+00:00', updated_at='2025-07-14T11:44:55.722165+00:00')"
      ]
     },
     "execution_count": 34,
     "metadata": {},
     "output_type": "execute_result"
    }
   ],
   "source": [
    "res.status = WorkflowStatus.SUCCESS\n",
    "res_updated = memory.workflows.update(res)\n",
    "res_updated"
   ]
  },
  {
   "cell_type": "code",
   "execution_count": 49,
   "id": "6617db59",
   "metadata": {},
   "outputs": [
    {
     "data": {
      "text/plain": [
       "[Workflow(conversation_item_id='blub-1', user_query='user query 2', status='error', _id=ObjectId('6874c8627c0672cc31a5d0b7'), workflow_id='8f6c73497b034d51b232f7da17f4ea8b', data={'source': 'test_source'}, created_at='2025-07-14T09:05:38.731584+00:00', updated_at='2025-07-14T09:05:38.731588+00:00'),\n",
       " Workflow(conversation_item_id='blub-1', user_query='user query 2', status='error', _id=ObjectId('6874c8687c0672cc31a5d0b9'), workflow_id='5a42d02f5c53485796e32b0951c4c719', data={'source': 'test_source'}, created_at='2025-07-14T09:05:44.304595+00:00', updated_at='2025-07-14T09:05:44.304606+00:00'),\n",
       " Workflow(conversation_item_id='blub-1', user_query='user query 2', status='error', _id=ObjectId('6874edb36a0f76356d561c86'), workflow_id='21555e8acb01485191be678180fecb42', data={'source': 'test_source'}, created_at='2025-07-14T11:44:51.123991+00:00', updated_at='2025-07-14T11:44:51.123996+00:00')]"
      ]
     },
     "execution_count": 49,
     "metadata": {},
     "output_type": "execute_result"
    }
   ],
   "source": [
    "[w for w in memory.workflows.list_by_conversation_id(\"blub-1\")]"
   ]
  },
  {
   "cell_type": "code",
   "execution_count": 48,
   "id": "8e391dcd",
   "metadata": {},
   "outputs": [
    {
     "name": "stdout",
     "output_type": "stream",
     "text": [
      "Workflow with ID b4ab782ce1f04e8995e8061bd5102930 successfuly deleted\n"
     ]
    }
   ],
   "source": [
    "memory.workflows.delete(\"blub-2\", cascade=True)\n",
    "# memory.workflows.delete(res.workflow_id, cascade=True)\n",
    "\n",
    "try:\n",
    "    memory.workflows.get(res.workflow_id)\n",
    "except Exception as e:\n",
    "    print(f\"Workflow with ID {res.workflow_id} successfuly deleted\")"
   ]
  },
  {
   "cell_type": "markdown",
   "id": "726c3182",
   "metadata": {},
   "source": [
    "### WorkflowItems"
   ]
  },
  {
   "cell_type": "code",
   "execution_count": 38,
   "id": "9ec56f73",
   "metadata": {},
   "outputs": [
    {
     "data": {
      "text/plain": [
       "WorkflowStep(workflow_id='blub-1', name='New Workflow Step', tool='test_tool', arguments={'arg1': 'value1', 'arg2': 'value2'}, status=<WorkflowStatus.RUNNING: 'running'>, _id='6874edd46a0f76356d561c87', step_id='16fd8d4fbfa94748be5a13e1accb7e4f', result=None, logs=[], error=None, data={}, created_at='2025-07-14T11:45:24.829019+00:00', updated_at='2025-07-14T11:45:24.829031+00:00')"
      ]
     },
     "execution_count": 38,
     "metadata": {},
     "output_type": "execute_result"
    }
   ],
   "source": [
    "from agentmemory.schema.workflows import WorkflowStep, WorkflowStatus\n",
    "\n",
    "step = WorkflowStep(\n",
    "    workflow_id=\"blub-1\",\n",
    "    name=\"New Workflow Step\",\n",
    "    tool=\"test_tool\",\n",
    "    arguments={\"arg1\": \"value1\", \"arg2\": \"value2\"},\n",
    "    status=WorkflowStatus.RUNNING\n",
    ")\n",
    "\n",
    "step_2 = WorkflowStep(\n",
    "    workflow_id=\"blub-2\",\n",
    "    name=\"New Workflow Step 2\",\n",
    "    tool=\"test_tool_2\",\n",
    "    arguments={\"arg1\": \"value1\", \"arg2\": \"value2\"},\n",
    "    status=WorkflowStatus.ERROR\n",
    ")\n",
    "\n",
    "step_created = memory.workflow_steps.create(step)\n",
    "step_created_2 = memory.workflow_steps.create(step_2)\n",
    "step_created"
   ]
  },
  {
   "cell_type": "code",
   "execution_count": 39,
   "id": "26bea08a",
   "metadata": {},
   "outputs": [
    {
     "data": {
      "text/plain": [
       "WorkflowStep(workflow_id='blub-1', name='New Workflow Step', tool='test_tool', arguments={'arg1': 'value1', 'arg2': 'value2'}, status='running', _id=ObjectId('6874edd46a0f76356d561c87'), step_id='16fd8d4fbfa94748be5a13e1accb7e4f', result=None, logs=[], error=None, data={}, created_at='2025-07-14T11:45:24.829019+00:00', updated_at='2025-07-14T11:45:24.829031+00:00')"
      ]
     },
     "execution_count": 39,
     "metadata": {},
     "output_type": "execute_result"
    }
   ],
   "source": [
    "memory.workflow_steps.get(\"blub-1\", step_created.step_id)"
   ]
  },
  {
   "cell_type": "code",
   "execution_count": 40,
   "id": "97f419af",
   "metadata": {},
   "outputs": [
    {
     "data": {
      "text/plain": [
       "WorkflowStep(workflow_id='blub-1', name='Updated Workflow Step Name', tool='test_tool', arguments={'arg1': 'value1', 'arg2': 'value2'}, status=<WorkflowStatus.RUNNING: 'running'>, _id='6874edd46a0f76356d561c87', step_id='16fd8d4fbfa94748be5a13e1accb7e4f', result=None, logs=[], error=None, data={}, created_at='2025-07-14T11:45:24.829019+00:00', updated_at='2025-07-14T11:45:28.273373+00:00')"
      ]
     },
     "execution_count": 40,
     "metadata": {},
     "output_type": "execute_result"
    }
   ],
   "source": [
    "step_created.name = \"Updated Workflow Step Name\"\n",
    "step_updated = memory.workflow_steps.update(step_created)\n",
    "step_updated"
   ]
  },
  {
   "cell_type": "code",
   "execution_count": 50,
   "id": "cf059aa7",
   "metadata": {},
   "outputs": [
    {
     "data": {
      "text/plain": [
       "[WorkflowStep(workflow_id='a62c96a5a60544ee97309035de639985', name='New Workflow Step', tool='test_tool', arguments={'arg1': 'value1', 'arg2': 'value2'}, status='running', _id=ObjectId('6874cb447c0672cc31a5d0ba'), step_id='1b7b7f0c50af41dda46b42b622b0ae24', result=None, logs=[], error=None, data={}, created_at='2025-07-14T09:17:56.628638+00:00', updated_at='2025-07-14T09:17:56.628641+00:00'),\n",
       " WorkflowStep(workflow_id='a62c96a5a60544ee97309035de639985', name='Updated Workflow Step Name', tool='test_tool', arguments={'arg1': 'value1', 'arg2': 'value2'}, status='running', _id=ObjectId('6874cc397c0672cc31a5d0bb'), step_id='d28eb09cc09344dbb52bbb440f0c5aea', result=None, logs=[], error=None, data={}, created_at='2025-07-14T09:22:01.797660+00:00', updated_at='2025-07-14T09:23:02.639175+00:00'),\n",
       " WorkflowStep(workflow_id='a62c96a5a60544ee97309035de639985', name='New Workflow Step 2', tool='test_tool_2', arguments={'arg1': 'value1', 'arg2': 'value2'}, status='error', _id=ObjectId('6874cc397c0672cc31a5d0bc'), step_id='f3ea55955e594dbdbcd0ba1147ee70c2', result=None, logs=[], error=None, data={}, created_at='2025-07-14T09:22:01.800926+00:00', updated_at='2025-07-14T09:22:01.800955+00:00'),\n",
       " WorkflowStep(workflow_id='blub-1', name='Updated Workflow Step Name', tool='test_tool', arguments={'arg1': 'value1', 'arg2': 'value2'}, status='running', _id=ObjectId('6874cf00ab96d7c72d806f76'), step_id='b0db0cc1a1fa47c78ac8ec75ca90d173', result=None, logs=[], error=None, data={}, created_at='2025-07-14T09:33:52.381960+00:00', updated_at='2025-07-14T09:34:04.090752+00:00')]"
      ]
     },
     "execution_count": 50,
     "metadata": {},
     "output_type": "execute_result"
    }
   ],
   "source": [
    "[s for s in memory.workflow_steps.list()]"
   ]
  },
  {
   "cell_type": "code",
   "execution_count": 42,
   "id": "87b7388b",
   "metadata": {},
   "outputs": [
    {
     "data": {
      "text/plain": [
       "[WorkflowStep(workflow_id='blub-2', name='New Workflow Step 2', tool='test_tool_2', arguments={'arg1': 'value1', 'arg2': 'value2'}, status='error', _id=ObjectId('6874cf00ab96d7c72d806f77'), step_id='f1287266ce1144e9a7c7b4351ba7753f', result=None, logs=[], error=None, data={}, created_at='2025-07-14T09:33:52.388699+00:00', updated_at='2025-07-14T09:33:52.388707+00:00'),\n",
       " WorkflowStep(workflow_id='blub-2', name='New Workflow Step 2', tool='test_tool_2', arguments={'arg1': 'value1', 'arg2': 'value2'}, status='error', _id=ObjectId('6874cf1f722ac00e151d6958'), step_id='0f883ed244b14943b73b94731c399bee', result=None, logs=[], error=None, data={}, created_at='2025-07-14T09:34:23.098121+00:00', updated_at='2025-07-14T09:34:23.098130+00:00'),\n",
       " WorkflowStep(workflow_id='blub-2', name='New Workflow Step 2', tool='test_tool_2', arguments={'arg1': 'value1', 'arg2': 'value2'}, status='error', _id=ObjectId('6874edd46a0f76356d561c88'), step_id='3b98b32f96a649889f0a4b7d3ceedea1', result=None, logs=[], error=None, data={}, created_at='2025-07-14T11:45:24.829102+00:00', updated_at='2025-07-14T11:45:24.829108+00:00')]"
      ]
     },
     "execution_count": 42,
     "metadata": {},
     "output_type": "execute_result"
    }
   ],
   "source": [
    "[s for s in memory.workflow_steps.list_by_workflow_id(\"blub-2\")]"
   ]
  },
  {
   "cell_type": "code",
   "execution_count": 43,
   "id": "3d215667",
   "metadata": {},
   "outputs": [
    {
     "name": "stdout",
     "output_type": "stream",
     "text": [
      "Workflow with ID 16fd8d4fbfa94748be5a13e1accb7e4f successfuly deleted\n"
     ]
    }
   ],
   "source": [
    "memory.workflow_steps.delete(step_created.workflow_id, step_created.step_id)\n",
    "\n",
    "try:\n",
    "    memory.workflow_steps.get(step_created.workflow_id, step_created.step_id)\n",
    "except Exception as e:\n",
    "    print(f\"Workflow with ID {step_created.step_id} successfuly deleted\")"
   ]
  },
  {
   "cell_type": "markdown",
   "id": "3ebda76c",
   "metadata": {},
   "source": [
    "## Cache"
   ]
  },
  {
   "cell_type": "code",
   "execution_count": 5,
   "id": "e79d5df3",
   "metadata": {},
   "outputs": [
    {
     "name": "stdout",
     "output_type": "stream",
     "text": [
      "Cache Key: type:LIST;col:conversations;id:blub-10,blub-90\n",
      "Clear Key: ['type:GET;col:conversations;id:blub-10,blub-90*', 'type:LIST;col:conversations;id:blub-10*']\n"
     ]
    }
   ],
   "source": [
    "from agentmemory.connection.shortterm.cache import (\n",
    "    CacheKey, ClearCacheKey, CacheRetrieveType, ClearCacheTransactionType\n",
    ")\n",
    "from agentmemory.connection.longterm.collections import Collection\n",
    "\n",
    "cache_key = CacheKey(\n",
    "    rtype=CacheRetrieveType.LIST,\n",
    "    col=Collection.CONVERSATIONS,\n",
    "    # query={\"data.blub\": \"rap-1\"},\n",
    "    id=(\"blub-10\", \"blub-90\")\n",
    ")\n",
    "\n",
    "clear_cache_keys = ClearCacheKey(\n",
    "    id=(\"blub-10\", \"blub-90\"),\n",
    "    ttype=ClearCacheTransactionType.DELETE,\n",
    "    col=Collection.CONVERSATIONS,\n",
    "    is_first_id_anchor=True\n",
    ")\n",
    "\n",
    "print(\"Cache Key:\", cache_key)\n",
    "print(\"Clear Key:\", clear_cache_keys)"
   ]
  },
  {
   "cell_type": "markdown",
   "id": "c876c2e0",
   "metadata": {},
   "source": [
    "## CosmosDB Connector"
   ]
  },
  {
   "cell_type": "markdown",
   "id": "27b8d4d5",
   "metadata": {},
   "source": [
    "# Psydo Code (tmp)"
   ]
  },
  {
   "cell_type": "code",
   "execution_count": null,
   "id": "d684fe5c",
   "metadata": {},
   "outputs": [],
   "source": [
    "from agentmemory import AgentMemory\n",
    "from agentmemory.persona import Persona\n",
    "from agentmemory.connection import AgentMemoryConnection\n",
    "from agentmemory.connection.longterm import MongoDBConnection, CosmosDBConnection\n",
    "from agentmemory.connection.shortterm import RedisConnection\n",
    "\n",
    "\n",
    "con = AgentMemoryConnection(\n",
    "    longterm=MongoDBConnection(\n",
    "        host=\"localhost\",\n",
    "        port=27017,\n",
    "        database=\"agentmemory\",\n",
    "        username=\"admin\",\n",
    "        password=\"password\"\n",
    "    ),\n",
    "    shortterm=RedisConnection(\n",
    "        host=\"localhost\",\n",
    "        port=6379,\n",
    "        db=0\n",
    "    )\n",
    ")\n",
    "\n",
    "memory = AgentMemory(\n",
    "    name=\"typecode-agent\",\n",
    "    con=con\n",
    ")\n",
    "\n",
    "personas = [\n",
    "    Persona()\n",
    "]\n",
    "\n",
    "memory.personas.add(personas)\n",
    "\n",
    "memory.initialize()  # runs schema creations\n",
    "# conversations\n",
    "# messages\n",
    "# workflows\n",
    "# tools: NICHT in MongoDB, sondern über MCP!"
   ]
  },
  {
   "cell_type": "code",
   "execution_count": null,
   "id": "43add5d4",
   "metadata": {},
   "outputs": [],
   "source": [
    "from agentmemory.examples import create_example_memory\n",
    "\n",
    "memory = create_example_memory(name=\"example-memory\")"
   ]
  },
  {
   "cell_type": "markdown",
   "id": "0ab3d77f",
   "metadata": {},
   "source": [
    "## Work with AgentMemory"
   ]
  },
  {
   "cell_type": "markdown",
   "id": "815450cc",
   "metadata": {},
   "source": [
    "### Cache"
   ]
  },
  {
   "cell_type": "code",
   "execution_count": null,
   "id": "980614e8",
   "metadata": {},
   "outputs": [],
   "source": [
    "memory.cache.keys(\"*\")"
   ]
  },
  {
   "cell_type": "code",
   "execution_count": null,
   "id": "85765758",
   "metadata": {},
   "outputs": [],
   "source": [
    "from agentmemory.memory.cache import CacheKey\n",
    "\n",
    "key = CacheKey(\n",
    "    (blub, id),\n",
    "    (blab, id2)\n",
    ")\n",
    "# blub:id;blab:id2 ==> oder wie ist best practice?\n",
    "memory.cache.set(\"blub:id\", \"value\")"
   ]
  },
  {
   "cell_type": "code",
   "execution_count": null,
   "id": "a068c817",
   "metadata": {},
   "outputs": [],
   "source": [
    "memory.cache.get(\"*\")"
   ]
  },
  {
   "cell_type": "code",
   "execution_count": null,
   "id": "5ad0305a",
   "metadata": {},
   "outputs": [],
   "source": [
    "memory.cache.clear(\"*\")  # or remove, delete, etc.?"
   ]
  },
  {
   "cell_type": "markdown",
   "id": "cd3a0a7b",
   "metadata": {},
   "source": [
    "### Conversations"
   ]
  },
  {
   "cell_type": "code",
   "execution_count": null,
   "id": "6aac4453",
   "metadata": {},
   "outputs": [],
   "source": [
    "conversation = memory.conversations.get(\"acfe32d4-e446-4574-84a5-7416e69a9c77\")"
   ]
  },
  {
   "cell_type": "markdown",
   "id": "40e8d9ca",
   "metadata": {},
   "source": [
    "```json\n",
    "{\n",
    "    \"_id\": ObjectId(\"acfe32d4-e446-4574-84a5-7416e69a9c77\"),\n",
    "    \"conversation_id\": \"\",\n",
    "    \"title\": \"title\",\n",
    "    \"metadata\": {...},\n",
    "    \"created_at\": \"2025-04-24T06:15:50.773544\",\n",
    "    \"updated_at\": \"2025-04-24T06:15:50.773544\"\n",
    "}\n",
    "```"
   ]
  },
  {
   "cell_type": "code",
   "execution_count": null,
   "id": "e4005891",
   "metadata": {},
   "outputs": [],
   "source": [
    "conversation = memory.conversations.create(\n",
    "    name=\"blub\",\n",
    "    metadata={}\n",
    ")"
   ]
  },
  {
   "cell_type": "code",
   "execution_count": null,
   "id": "e46d8e9e",
   "metadata": {},
   "outputs": [],
   "source": [
    "conversation.update({\n",
    "    \"name\": \"new name\",\n",
    "    \"metadata\": {\n",
    "        \"key\": \"value\"\n",
    "    }\n",
    "})"
   ]
  },
  {
   "cell_type": "code",
   "execution_count": null,
   "id": "db6ee881",
   "metadata": {},
   "outputs": [],
   "source": [
    "memory.conversations.delete(\"acfe32d4-e446-4574-84a5-7416e69a9c77\", cascade=True)\n"
   ]
  },
  {
   "cell_type": "code",
   "execution_count": null,
   "id": "6d35c058",
   "metadata": {},
   "outputs": [],
   "source": [
    "conversation.delete(cascade=True)"
   ]
  },
  {
   "cell_type": "markdown",
   "id": "167e3ab3",
   "metadata": {},
   "source": [
    "### Conversation Items"
   ]
  },
  {
   "cell_type": "code",
   "execution_count": null,
   "id": "93e1fb39",
   "metadata": {},
   "outputs": [],
   "source": [
    "memory.conversation_items.list()"
   ]
  },
  {
   "cell_type": "markdown",
   "id": "07efeb10",
   "metadata": {},
   "source": [
    "```json\n",
    "[\n",
    "    {\n",
    "        \"_id\": ObjectId(\"b90dc6cf-9d3c-4a6d-8f55-5a9e4846b501\"),\n",
    "        \"conversation_id: ObjectId(\"76a9ce2a-4a05-46ad-b364-2106d6dfc0a2\"),\n",
    "        \"role\": \"user\",\n",
    "        \"content\": \"Get me the weather of today\",\n",
    "        \"metadata\": {...},\n",
    "        \"created_at\": \"2025-04-24T06:15:50.773544\",\n",
    "        \"updated_at\": \"2025-04-24T06:15:50.773544\"\n",
    "    },\n",
    "    {\n",
    "        \"_id\": ObjectId(\"7e16d4a5-bcd5-440b-8e70-fc64c4d83629\"),\n",
    "        \"conversation_id: ObjectId(\"76a9ce2a-4a05-46ad-b364-2106d6dfc0a2\"),\n",
    "        \"role\": \"assistant\",\n",
    "        \"content\": \"The weather of today is blub.\",\n",
    "        \"metadata\": {...},\n",
    "        \"created_at\": \"2025-04-24T06:15:50.773544\",\n",
    "        \"updated_at\": \"2025-04-24T06:15:50.773544\"\n",
    "    }\n",
    "]\n",
    "```"
   ]
  },
  {
   "cell_type": "markdown",
   "id": "c0bef16b",
   "metadata": {},
   "source": [
    "### Personas"
   ]
  },
  {
   "cell_type": "code",
   "execution_count": null,
   "id": "7f261806",
   "metadata": {},
   "outputs": [],
   "source": [
    "persona = memory.personas.get(\"acfe32d4-e446-4574-84a5-7416e69a9c77\")\n",
    "\n",
    "persona.to_dict()"
   ]
  },
  {
   "cell_type": "markdown",
   "id": "a1d722e8",
   "metadata": {},
   "source": [
    "```json\n",
    "{\n",
    "    \"_id\": ObjectId(\"76a9ce2a-4a05-46ad-b364-2106d6dfc0a2\"),\n",
    "    \"name\": \"AI Engineer Cody\",\n",
    "    \"role\": \"Python Software Engineer for FastAPI development\",\n",
    "    \"goals\": \"...\",\n",
    "    \"description\": \"...\",\n",
    "    \"embedding\": Array(256),\n",
    "    \"created_at\": \"2025-04-24T06:15:50.773544\",\n",
    "    \"updated_at\": \"2025-04-24T06:15:50.773544\"\n",
    "}\n",
    "\n",
    "```"
   ]
  },
  {
   "cell_type": "code",
   "execution_count": null,
   "id": "80f602eb",
   "metadata": {},
   "outputs": [],
   "source": [
    "persona.to_dict(fields=[\"name\", \"role\", \"goals\", \"description\"])"
   ]
  },
  {
   "cell_type": "code",
   "execution_count": null,
   "id": "09244a3c",
   "metadata": {},
   "outputs": [],
   "source": [
    "persona.to_text()"
   ]
  },
  {
   "cell_type": "code",
   "execution_count": null,
   "id": "cc66694a",
   "metadata": {},
   "outputs": [],
   "source": [
    "from agentmemory import build_prompt\n",
    "from agentmemory.instructions import Instructions, StandardInstructions\n",
    "\n",
    "instructions = Instructions(name=\"Instructions\")\n",
    "resp_instructions = Instructions(name=\"Response Instructions\")\n",
    "\n",
    "instructions.add([\n",
    "    \"Do not hallucinate — only use confirmed information.\"\n",
    "])\n",
    "resp_instructions.add([\n",
    "    StandardInstructions.MARKDOWN_RESPONSE\n",
    "])\n",
    "\n",
    "prompt = build_prompt(\n",
    "    persona=persona,\n",
    "    instructions=instructions,\n",
    "    context=\"\"  # context data etc; free to use\n",
    ")\n",
    "\n",
    "prompt"
   ]
  },
  {
   "cell_type": "markdown",
   "id": "b6ffdf56",
   "metadata": {},
   "source": [
    "### Workflows"
   ]
  },
  {
   "cell_type": "code",
   "execution_count": null,
   "id": "221c4a5b",
   "metadata": {},
   "outputs": [],
   "source": [
    "memory.workflows.create()\n",
    "# https://youtu.be/W2HVdB4Jbjs"
   ]
  },
  {
   "cell_type": "code",
   "execution_count": 7,
   "id": "4ae91eca",
   "metadata": {},
   "outputs": [
    {
     "data": {
      "text/plain": [
       "UUID('7e16d4a5-bcd5-440b-8e70-fc64c4d83629')"
      ]
     },
     "execution_count": 7,
     "metadata": {},
     "output_type": "execute_result"
    }
   ],
   "source": [
    "import uuid\n",
    "\n",
    "uuid.uuid4()"
   ]
  }
 ],
 "metadata": {
  "kernelspec": {
   "display_name": "base",
   "language": "python",
   "name": "python3"
  },
  "language_info": {
   "codemirror_mode": {
    "name": "ipython",
    "version": 3
   },
   "file_extension": ".py",
   "mimetype": "text/x-python",
   "name": "python",
   "nbconvert_exporter": "python",
   "pygments_lexer": "ipython3",
   "version": "3.11.4"
  }
 },
 "nbformat": 4,
 "nbformat_minor": 5
}

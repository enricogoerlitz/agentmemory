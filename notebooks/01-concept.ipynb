{
 "cells": [
  {
   "cell_type": "markdown",
   "id": "d084238a",
   "metadata": {},
   "source": [
    "# Concept of AgentMemory package"
   ]
  },
  {
   "cell_type": "markdown",
   "id": "6ff6f8c9",
   "metadata": {},
   "source": [
    "## Notebook Initialization"
   ]
  },
  {
   "cell_type": "code",
   "execution_count": 1,
   "id": "243fbc8d",
   "metadata": {},
   "outputs": [],
   "source": [
    "import sys\n",
    "\n",
    "sys.path.append(\"../src\")"
   ]
  },
  {
   "cell_type": "code",
   "execution_count": 2,
   "id": "1906b994",
   "metadata": {},
   "outputs": [
    {
     "data": {
      "text/plain": [
       "<agentmemory.memory.conversations.Conversations at 0x10b024fd0>"
      ]
     },
     "execution_count": 2,
     "metadata": {},
     "output_type": "execute_result"
    }
   ],
   "source": [
    "from agentmemory import AgentMemory\n",
    "from agentmemory.connection import AgentMemoryConnection\n",
    "from agentmemory.connection.longterm import MongoDBConnection\n",
    "\n",
    "con = AgentMemoryConnection(\n",
    "    longterm_con=MongoDBConnection(\n",
    "        mongo_uri=\"mongodb://localhost:27017\",\n",
    "        database=\"agentmemory-dev\",\n",
    "    ),\n",
    "    shortterm_con=None\n",
    ")\n",
    "\n",
    "memory = AgentMemory(\"typecode-agent\", con=con)\n",
    "\n",
    "memory.conversations"
   ]
  },
  {
   "cell_type": "code",
   "execution_count": 7,
   "id": "53f302cf",
   "metadata": {},
   "outputs": [
    {
     "data": {
      "text/plain": [
       "Conversation(title='New Conversation 2', _id='6861a946e042b7ce54a4855e', conversation_id='1b4365ea2d3843a299ffef1e2468fb5e', metadata={}, created_at='2025-06-29T20:59:50.216726+00:00', updated_at='2025-06-29T20:59:50.216738+00:00')"
      ]
     },
     "execution_count": 7,
     "metadata": {},
     "output_type": "execute_result"
    }
   ],
   "source": [
    "from agentmemory.schema.conversations import Conversation\n",
    "\n",
    "conversation = Conversation(\n",
    "    title=\"New Conversation 2\"\n",
    ")\n",
    "\n",
    "res = memory.conversations.create(conversation)\n",
    "res"
   ]
  },
  {
   "cell_type": "code",
   "execution_count": 3,
   "id": "e0ca7f4d",
   "metadata": {},
   "outputs": [
    {
     "data": {
      "text/plain": [
       "[Conversation(title='Updated Conversation Title', _id=ObjectId('68619d8198c223886061eb95'), conversation_id='c00ed17ff71c450ca673a8b8437888b2', metadata={'key': 'value'}, created_at='2025-06-29T20:09:37.375633+00:00', updated_at='2025-06-29T20:10:43.077792+00:00'),\n",
       " Conversation(title='New Conversation', _id=ObjectId('6861a09830cfa5e74e278ca3'), conversation_id='e36a74fb383c4ff1a2e13339bf94a8d2', metadata={}, created_at='2025-06-29T20:22:48.540164+00:00', updated_at='2025-06-29T20:22:48.540175+00:00'),\n",
       " Conversation(title='New Conversation 2', _id=ObjectId('6861a59de042b7ce54a4855c'), conversation_id='b5a9e256205c4958b39b98e872b9cc7e', metadata={}, created_at='2025-06-29T20:44:13.602531+00:00', updated_at='2025-06-29T20:44:13.602540+00:00'),\n",
       " Conversation(title='Updated Conversation Title', _id=ObjectId('6861a946e042b7ce54a4855e'), conversation_id='1b4365ea2d3843a299ffef1e2468fb5e', metadata={}, created_at='2025-06-29T20:59:50.216726+00:00', updated_at='2025-06-29T21:00:01.817366+00:00')]"
      ]
     },
     "execution_count": 3,
     "metadata": {},
     "output_type": "execute_result"
    }
   ],
   "source": [
    "l = [d for d in memory.conversations.list()]\n",
    "l"
   ]
  },
  {
   "cell_type": "code",
   "execution_count": 10,
   "id": "602769d0",
   "metadata": {},
   "outputs": [
    {
     "data": {
      "text/plain": [
       "Conversation(title='Updated Conversation Title', _id='6861a946e042b7ce54a4855e', conversation_id='1b4365ea2d3843a299ffef1e2468fb5e', metadata={}, created_at='2025-06-29T20:59:50.216726+00:00', updated_at='2025-06-29T21:00:01.817366+00:00')"
      ]
     },
     "execution_count": 10,
     "metadata": {},
     "output_type": "execute_result"
    }
   ],
   "source": [
    "conversation.title = \"Updated Conversation Title\"\n",
    "\n",
    "updated_conversation = memory.conversations.update(res)\n",
    "updated_conversation"
   ]
  },
  {
   "cell_type": "code",
   "execution_count": 11,
   "id": "c60f9288",
   "metadata": {},
   "outputs": [
    {
     "data": {
      "text/plain": [
       "Conversation(title='Updated Conversation Title', _id=ObjectId('6861a946e042b7ce54a4855e'), conversation_id='1b4365ea2d3843a299ffef1e2468fb5e', metadata={}, created_at='2025-06-29T20:59:50.216726+00:00', updated_at='2025-06-29T21:00:01.817366+00:00')"
      ]
     },
     "execution_count": 11,
     "metadata": {},
     "output_type": "execute_result"
    }
   ],
   "source": [
    "memory.conversations.get(updated_conversation.conversation_id)"
   ]
  },
  {
   "cell_type": "code",
   "execution_count": null,
   "id": "e5c7311a",
   "metadata": {},
   "outputs": [],
   "source": [
    "r = memory.conversations.delete(\"42f881b6cdac41fba50383ca0e4475ab\")\n",
    "r"
   ]
  },
  {
   "cell_type": "code",
   "execution_count": 3,
   "id": "ec2d914f",
   "metadata": {},
   "outputs": [
    {
     "data": {
      "text/plain": [
       "Conversation(title='Updated Conversation Title', _id=ObjectId('68619d8198c223886061eb95'), conversation_id='c00ed17ff71c450ca673a8b8437888b2', metadata={'key': 'value'}, created_at='2025-06-29T20:09:37.375633+00:00', updated_at='2025-06-29T20:10:43.077792+00:00')"
      ]
     },
     "execution_count": 3,
     "metadata": {},
     "output_type": "execute_result"
    }
   ],
   "source": [
    "conversation_1 = next(memory.conversations.list())\n",
    "conversation_1"
   ]
  },
  {
   "cell_type": "code",
   "execution_count": 4,
   "id": "fecc1d74",
   "metadata": {},
   "outputs": [
    {
     "data": {
      "text/plain": [
       "ConversationItem(conversation_id='c00ed17ff71c450ca673a8b8437888b2', role='user', content='New item content', _id='6861aca9da2f1582dc9b2cc7', item_id='1c5f596bead84855b17b94caeee8774a', metadata={'source': 'test_source'}, created_at='2025-06-29T21:14:17.012774+00:00', updated_at='2025-06-29T21:14:17.012778+00:00')"
      ]
     },
     "execution_count": 4,
     "metadata": {},
     "output_type": "execute_result"
    }
   ],
   "source": [
    "from agentmemory.schema.conversations import ConversationItem\n",
    "\n",
    "item = ConversationItem(\n",
    "    conversation_id=conversation_1.conversation_id,\n",
    "    content=\"New item content\",\n",
    "    role=\"user\",\n",
    "    metadata={\"source\": \"test_source\"}\n",
    ")\n",
    "item_created = memory.conversation_items.create(item)\n",
    "item_created"
   ]
  },
  {
   "cell_type": "code",
   "execution_count": 7,
   "id": "fe58d66f",
   "metadata": {},
   "outputs": [
    {
     "data": {
      "text/plain": [
       "[ConversationItem(conversation_id='c00ed17ff71c450ca673a8b8437888b2', role='user', content='This is a new item in the conversation.', _id=ObjectId('6861abe46360e5e8ce29e38c'), item_id='d59cd9f4d5274b39839869a3ed496b0d', metadata={'source': 'test_source', 'tags': ['test', 'example']}, created_at='2025-06-29T21:11:00.815843+00:00', updated_at='2025-06-29T21:11:00.815846+00:00'),\n",
       " ConversationItem(conversation_id='c00ed17ff71c450ca673a8b8437888b2', role='user', content='New item content', _id=ObjectId('6861abfd6360e5e8ce29e38d'), item_id='e7ec866889dd47f0b89939eb0ffdb629', metadata={'source': 'test_source'}, created_at='2025-06-29T21:11:25.955972+00:00', updated_at='2025-06-29T21:11:25.955975+00:00'),\n",
       " ConversationItem(conversation_id='c00ed17ff71c450ca673a8b8437888b2', role='user', content='New item content', _id=ObjectId('6861ac0f6360e5e8ce29e38e'), item_id='25d5c046f4444349af0c84b1dacfcd72', metadata={'source': 'test_source'}, created_at='2025-06-29T21:11:43.033372+00:00', updated_at='2025-06-29T21:11:43.033377+00:00'),\n",
       " ConversationItem(conversation_id='c00ed17ff71c450ca673a8b8437888b2', role='user', content='Updated item content', _id=ObjectId('6861aca9da2f1582dc9b2cc7'), item_id='1c5f596bead84855b17b94caeee8774a', metadata={'source': 'test_source'}, created_at='2025-06-29T21:14:17.012774+00:00', updated_at='2025-06-29T21:14:24.810109+00:00')]"
      ]
     },
     "execution_count": 7,
     "metadata": {},
     "output_type": "execute_result"
    }
   ],
   "source": [
    "[d for d in memory.conversation_items.list(conversation_1.conversation_id)]"
   ]
  },
  {
   "cell_type": "code",
   "execution_count": 15,
   "id": "984c3692",
   "metadata": {},
   "outputs": [
    {
     "data": {
      "text/plain": [
       "ConversationItem(conversation_id='c00ed17ff71c450ca673a8b8437888b2', role='user', content='New item content', _id=ObjectId('6861ac0f6360e5e8ce29e38e'), item_id='25d5c046f4444349af0c84b1dacfcd72', metadata={'source': 'test_source'}, created_at='2025-06-29T21:11:43.033372+00:00', updated_at='2025-06-29T21:11:43.033377+00:00')"
      ]
     },
     "execution_count": 15,
     "metadata": {},
     "output_type": "execute_result"
    }
   ],
   "source": [
    "memory.conversation_items.get(conversation_1.conversation_id, item_created.item_id)"
   ]
  },
  {
   "cell_type": "code",
   "execution_count": 6,
   "id": "86dd01ca",
   "metadata": {},
   "outputs": [
    {
     "data": {
      "text/plain": [
       "ConversationItem(conversation_id='c00ed17ff71c450ca673a8b8437888b2', role='user', content='Updated item content', _id='6861aca9da2f1582dc9b2cc7', item_id='1c5f596bead84855b17b94caeee8774a', metadata={'source': 'test_source'}, created_at='2025-06-29T21:14:17.012774+00:00', updated_at='2025-06-29T21:14:24.810109+00:00')"
      ]
     },
     "execution_count": 6,
     "metadata": {},
     "output_type": "execute_result"
    }
   ],
   "source": [
    "item_created.content = \"Updated item content\"\n",
    "item_updated = memory.conversation_items.update(item_created)\n",
    "item_updated"
   ]
  },
  {
   "cell_type": "markdown",
   "id": "27b8d4d5",
   "metadata": {},
   "source": [
    "## Initialize AgentMemory"
   ]
  },
  {
   "cell_type": "code",
   "execution_count": null,
   "id": "d684fe5c",
   "metadata": {},
   "outputs": [],
   "source": [
    "from agentmemory import AgentMemory\n",
    "from agentmemory.persona import Persona\n",
    "from agentmemory.connection import AgentMemoryConnection\n",
    "from agentmemory.connection.longterm import MongoDBConnection, CosmosDBConnection\n",
    "from agentmemory.connection.shortterm import RedisConnection\n",
    "\n",
    "\n",
    "con = AgentMemoryConnection(\n",
    "    longterm=MongoDBConnection(\n",
    "        host=\"localhost\",\n",
    "        port=27017,\n",
    "        database=\"agentmemory\",\n",
    "        username=\"admin\",\n",
    "        password=\"password\"\n",
    "    ),\n",
    "    shortterm=RedisConnection(\n",
    "        host=\"localhost\",\n",
    "        port=6379,\n",
    "        db=0\n",
    "    )\n",
    ")\n",
    "\n",
    "memory = AgentMemory(\n",
    "    name=\"typecode-agent\",\n",
    "    con=con\n",
    ")\n",
    "\n",
    "personas = [\n",
    "    Persona()\n",
    "]\n",
    "\n",
    "memory.personas.add(personas)\n",
    "\n",
    "memory.initialize()  # runs schema creations\n",
    "# conversations\n",
    "# messages\n",
    "# workflows\n",
    "# tools: NICHT in MongoDB, sondern über MCP!"
   ]
  },
  {
   "cell_type": "code",
   "execution_count": null,
   "id": "43add5d4",
   "metadata": {},
   "outputs": [],
   "source": [
    "from agentmemory.examples import create_example_memory\n",
    "\n",
    "memory = create_example_memory(name=\"example-memory\")"
   ]
  },
  {
   "cell_type": "markdown",
   "id": "0ab3d77f",
   "metadata": {},
   "source": [
    "## Work with AgentMemory"
   ]
  },
  {
   "cell_type": "markdown",
   "id": "cd3a0a7b",
   "metadata": {},
   "source": [
    "### Conversations"
   ]
  },
  {
   "cell_type": "code",
   "execution_count": null,
   "id": "6aac4453",
   "metadata": {},
   "outputs": [],
   "source": [
    "conversation = memory.conversations.get(\"acfe32d4-e446-4574-84a5-7416e69a9c77\")"
   ]
  },
  {
   "cell_type": "markdown",
   "id": "40e8d9ca",
   "metadata": {},
   "source": [
    "```json\n",
    "{\n",
    "    \"_id\": ObjectId(\"acfe32d4-e446-4574-84a5-7416e69a9c77\"),\n",
    "    \"conversation_id\": \"\",\n",
    "    \"title\": \"title\",\n",
    "    \"metadata\": {...},\n",
    "    \"created_at\": \"2025-04-24T06:15:50.773544\",\n",
    "    \"updated_at\": \"2025-04-24T06:15:50.773544\"\n",
    "}\n",
    "```"
   ]
  },
  {
   "cell_type": "code",
   "execution_count": null,
   "id": "e4005891",
   "metadata": {},
   "outputs": [],
   "source": [
    "conversation = memory.conversations.create(\n",
    "    name=\"blub\",\n",
    "    metadata={}\n",
    ")"
   ]
  },
  {
   "cell_type": "code",
   "execution_count": null,
   "id": "e46d8e9e",
   "metadata": {},
   "outputs": [],
   "source": [
    "conversation.update({\n",
    "    \"name\": \"new name\",\n",
    "    \"metadata\": {\n",
    "        \"key\": \"value\"\n",
    "    }\n",
    "})"
   ]
  },
  {
   "cell_type": "code",
   "execution_count": null,
   "id": "db6ee881",
   "metadata": {},
   "outputs": [],
   "source": [
    "memory.conversations.delete(\"acfe32d4-e446-4574-84a5-7416e69a9c77\", cascade=True)\n"
   ]
  },
  {
   "cell_type": "code",
   "execution_count": null,
   "id": "6d35c058",
   "metadata": {},
   "outputs": [],
   "source": [
    "conversation.delete(cascade=True)"
   ]
  },
  {
   "cell_type": "markdown",
   "id": "167e3ab3",
   "metadata": {},
   "source": [
    "### Conversation Items"
   ]
  },
  {
   "cell_type": "code",
   "execution_count": null,
   "id": "93e1fb39",
   "metadata": {},
   "outputs": [],
   "source": [
    "memory.conversation_items.list()"
   ]
  },
  {
   "cell_type": "markdown",
   "id": "07efeb10",
   "metadata": {},
   "source": [
    "```json\n",
    "[\n",
    "    {\n",
    "        \"_id\": ObjectId(\"b90dc6cf-9d3c-4a6d-8f55-5a9e4846b501\"),\n",
    "        \"conversation_id: ObjectId(\"76a9ce2a-4a05-46ad-b364-2106d6dfc0a2\"),\n",
    "        \"role\": \"user\",\n",
    "        \"content\": \"Get me the weather of today\",\n",
    "        \"metadata\": {...},\n",
    "        \"created_at\": \"2025-04-24T06:15:50.773544\",\n",
    "        \"updated_at\": \"2025-04-24T06:15:50.773544\"\n",
    "    },\n",
    "    {\n",
    "        \"_id\": ObjectId(\"7e16d4a5-bcd5-440b-8e70-fc64c4d83629\"),\n",
    "        \"conversation_id: ObjectId(\"76a9ce2a-4a05-46ad-b364-2106d6dfc0a2\"),\n",
    "        \"role\": \"assistant\",\n",
    "        \"content\": \"The weather of today is blub.\",\n",
    "        \"metadata\": {...},\n",
    "        \"created_at\": \"2025-04-24T06:15:50.773544\",\n",
    "        \"updated_at\": \"2025-04-24T06:15:50.773544\"\n",
    "    }\n",
    "]\n",
    "```"
   ]
  },
  {
   "cell_type": "markdown",
   "id": "c0bef16b",
   "metadata": {},
   "source": [
    "### Personas"
   ]
  },
  {
   "cell_type": "code",
   "execution_count": null,
   "id": "7f261806",
   "metadata": {},
   "outputs": [],
   "source": [
    "persona = memory.personas.get(\"acfe32d4-e446-4574-84a5-7416e69a9c77\")\n",
    "\n",
    "persona.to_dict()"
   ]
  },
  {
   "cell_type": "markdown",
   "id": "a1d722e8",
   "metadata": {},
   "source": [
    "```json\n",
    "{\n",
    "    \"_id\": ObjectId(\"76a9ce2a-4a05-46ad-b364-2106d6dfc0a2\"),\n",
    "    \"name\": \"AI Engineer Cody\",\n",
    "    \"role\": \"Python Software Engineer for FastAPI development\",\n",
    "    \"goals\": \"...\",\n",
    "    \"description\": \"...\",\n",
    "    \"embedding\": Array(256),\n",
    "    \"created_at\": \"2025-04-24T06:15:50.773544\",\n",
    "    \"updated_at\": \"2025-04-24T06:15:50.773544\"\n",
    "}\n",
    "\n",
    "```"
   ]
  },
  {
   "cell_type": "code",
   "execution_count": null,
   "id": "80f602eb",
   "metadata": {},
   "outputs": [],
   "source": [
    "persona.to_dict(fields=[\"name\", \"role\", \"goals\", \"description\"])"
   ]
  },
  {
   "cell_type": "code",
   "execution_count": null,
   "id": "09244a3c",
   "metadata": {},
   "outputs": [],
   "source": [
    "persona.to_text()"
   ]
  },
  {
   "cell_type": "code",
   "execution_count": null,
   "id": "cc66694a",
   "metadata": {},
   "outputs": [],
   "source": [
    "from agentmemory import build_prompt\n",
    "from agentmemory.instructions import Instructions, StandardInstructions\n",
    "\n",
    "instructions = Instructions(name=\"Instructions\")\n",
    "resp_instructions = Instructions(name=\"Response Instructions\")\n",
    "\n",
    "instructions.add([\n",
    "    \"Do not hallucinate — only use confirmed information.\"\n",
    "])\n",
    "resp_instructions.add([\n",
    "    StandardInstructions.MARKDOWN_RESPONSE\n",
    "])\n",
    "\n",
    "prompt = build_prompt(\n",
    "    persona=persona,\n",
    "    instructions=instructions,\n",
    "    context=\"\"  # context data etc; free to use\n",
    ")\n",
    "\n",
    "prompt"
   ]
  },
  {
   "cell_type": "markdown",
   "id": "b6ffdf56",
   "metadata": {},
   "source": [
    "### Workflows"
   ]
  },
  {
   "cell_type": "code",
   "execution_count": null,
   "id": "221c4a5b",
   "metadata": {},
   "outputs": [],
   "source": [
    "memory.workflows.create()\n",
    "# https://youtu.be/W2HVdB4Jbjs"
   ]
  },
  {
   "cell_type": "code",
   "execution_count": 7,
   "id": "4ae91eca",
   "metadata": {},
   "outputs": [
    {
     "data": {
      "text/plain": [
       "UUID('7e16d4a5-bcd5-440b-8e70-fc64c4d83629')"
      ]
     },
     "execution_count": 7,
     "metadata": {},
     "output_type": "execute_result"
    }
   ],
   "source": [
    "import uuid\n",
    "\n",
    "uuid.uuid4()"
   ]
  }
 ],
 "metadata": {
  "kernelspec": {
   "display_name": "base",
   "language": "python",
   "name": "python3"
  },
  "language_info": {
   "codemirror_mode": {
    "name": "ipython",
    "version": 3
   },
   "file_extension": ".py",
   "mimetype": "text/x-python",
   "name": "python",
   "nbconvert_exporter": "python",
   "pygments_lexer": "ipython3",
   "version": "3.11.4"
  }
 },
 "nbformat": 4,
 "nbformat_minor": 5
}

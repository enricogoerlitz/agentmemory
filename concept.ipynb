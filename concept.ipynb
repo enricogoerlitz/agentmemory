{
 "cells": [
  {
   "cell_type": "markdown",
   "id": "d084238a",
   "metadata": {},
   "source": [
    "# Concept of AgentMemory package"
   ]
  },
  {
   "cell_type": "markdown",
   "id": "27b8d4d5",
   "metadata": {},
   "source": [
    "## Initialize AgentMemory"
   ]
  },
  {
   "cell_type": "code",
   "execution_count": null,
   "id": "d684fe5c",
   "metadata": {},
   "outputs": [],
   "source": [
    "from agentmemory import AgentMemory\n",
    "from agentmemory.persona.persona import Persona\n",
    "from agentmemory.connection.longterm import MongoDBConnection, CosmosDBConnection\n",
    "from agentmemory.connection.shortterm import RedisConnection\n",
    "\n",
    "\n",
    "longterm_con = MongoDBConnection(\n",
    "    ...\n",
    ")\n",
    "\n",
    "shortterm_con = RedisConnection(\n",
    "    ...\n",
    ")\n",
    "\n",
    "memory = AgentMemory(\n",
    "    name=\"typecode-agent\",\n",
    "    longterm_con=longterm_con,\n",
    "    shortterm_con=shortterm_con\n",
    ")\n",
    "\n",
    "personas = [\n",
    "    Persona()\n",
    "]\n",
    "\n",
    "memory.personas.add(personas)\n",
    "\n",
    "memory.initialize()  # runs schema creations\n",
    "# conversations\n",
    "# messages\n",
    "# workflows\n",
    "# tools: NICHT in MongoDB, sondern über MCP!"
   ]
  },
  {
   "cell_type": "code",
   "execution_count": null,
   "id": "43add5d4",
   "metadata": {},
   "outputs": [],
   "source": [
    "from agentmemory.examples import create_example_memory\n",
    "\n",
    "memory = create_example_memory(name=\"example-memory\")"
   ]
  },
  {
   "cell_type": "markdown",
   "id": "0ab3d77f",
   "metadata": {},
   "source": [
    "## Work with AgentMemory"
   ]
  },
  {
   "cell_type": "markdown",
   "id": "cd3a0a7b",
   "metadata": {},
   "source": [
    "### Conversations"
   ]
  },
  {
   "cell_type": "code",
   "execution_count": null,
   "id": "6aac4453",
   "metadata": {},
   "outputs": [],
   "source": [
    "conversation = memory.conversations.get(\"acfe32d4-e446-4574-84a5-7416e69a9c77\")"
   ]
  },
  {
   "cell_type": "markdown",
   "id": "40e8d9ca",
   "metadata": {},
   "source": [
    "```json\n",
    "{\n",
    "    \"_id\": ObjectId(\"acfe32d4-e446-4574-84a5-7416e69a9c77\"),\n",
    "    \"name\": \"name\",\n",
    "    \"metadata\": {...},\n",
    "    \"created_at\": \"2025-04-24T06:15:50.773544\",\n",
    "    \"updated_at\": \"2025-04-24T06:15:50.773544\"\n",
    "}\n",
    "```"
   ]
  },
  {
   "cell_type": "code",
   "execution_count": null,
   "id": "e4005891",
   "metadata": {},
   "outputs": [],
   "source": [
    "conversation = memory.conversations.create(\n",
    "    name=\"blub\",\n",
    "    metadata={}\n",
    ")"
   ]
  },
  {
   "cell_type": "code",
   "execution_count": null,
   "id": "e46d8e9e",
   "metadata": {},
   "outputs": [],
   "source": [
    "conversation.update({\n",
    "    \"name\": \"new name\",\n",
    "    \"metadata\": {\n",
    "        \"key\": \"value\"\n",
    "    }\n",
    "})"
   ]
  },
  {
   "cell_type": "code",
   "execution_count": null,
   "id": "db6ee881",
   "metadata": {},
   "outputs": [],
   "source": [
    "memory.conversations.delete(\"acfe32d4-e446-4574-84a5-7416e69a9c77\", cascade=True)\n"
   ]
  },
  {
   "cell_type": "code",
   "execution_count": null,
   "id": "6d35c058",
   "metadata": {},
   "outputs": [],
   "source": [
    "conversation.delete(cascade=True)"
   ]
  },
  {
   "cell_type": "markdown",
   "id": "167e3ab3",
   "metadata": {},
   "source": [
    "### Conversation Items"
   ]
  },
  {
   "cell_type": "code",
   "execution_count": null,
   "id": "93e1fb39",
   "metadata": {},
   "outputs": [],
   "source": [
    "conversation.items"
   ]
  },
  {
   "cell_type": "markdown",
   "id": "07efeb10",
   "metadata": {},
   "source": [
    "```json\n",
    "[\n",
    "    {\n",
    "        \"_id\": ObjectId(\"b90dc6cf-9d3c-4a6d-8f55-5a9e4846b501\"),\n",
    "        \"conversation_id: ObjectId(\"76a9ce2a-4a05-46ad-b364-2106d6dfc0a2\"),\n",
    "        \"role\": \"user\",\n",
    "        \"content\": \"Get me the weather of today\",\n",
    "        \"metadata\": {...},\n",
    "        \"created_at\": \"2025-04-24T06:15:50.773544\",\n",
    "        \"updated_at\": \"2025-04-24T06:15:50.773544\"\n",
    "    },\n",
    "    {\n",
    "        \"_id\": ObjectId(\"7e16d4a5-bcd5-440b-8e70-fc64c4d83629\"),\n",
    "        \"conversation_id: ObjectId(\"76a9ce2a-4a05-46ad-b364-2106d6dfc0a2\"),\n",
    "        \"role\": \"assistant\",\n",
    "        \"content\": \"The weather of today is blub.\",\n",
    "        \"metadata\": {...},\n",
    "        \"created_at\": \"2025-04-24T06:15:50.773544\",\n",
    "        \"updated_at\": \"2025-04-24T06:15:50.773544\"\n",
    "    }\n",
    "]\n",
    "```"
   ]
  },
  {
   "cell_type": "markdown",
   "id": "c0bef16b",
   "metadata": {},
   "source": [
    "### Personas"
   ]
  },
  {
   "cell_type": "code",
   "execution_count": null,
   "id": "7f261806",
   "metadata": {},
   "outputs": [],
   "source": [
    "persona = memory.personas.get(\"acfe32d4-e446-4574-84a5-7416e69a9c77\")\n",
    "\n",
    "persona.to_dict()"
   ]
  },
  {
   "cell_type": "markdown",
   "id": "a1d722e8",
   "metadata": {},
   "source": [
    "```json\n",
    "{\n",
    "    \"_id\": ObjectId(\"76a9ce2a-4a05-46ad-b364-2106d6dfc0a2\"),\n",
    "    \"name\": \"AI Engineer Cody\",\n",
    "    \"role\": \"Python Software Engineer for FastAPI development\",\n",
    "    \"goals\": \"...\",\n",
    "    \"description\": \"...\",\n",
    "    \"embedding\": Array(256),\n",
    "    \"created_at\": \"2025-04-24T06:15:50.773544\",\n",
    "    \"updated_at\": \"2025-04-24T06:15:50.773544\"\n",
    "}\n",
    "\n",
    "```"
   ]
  },
  {
   "cell_type": "code",
   "execution_count": null,
   "id": "80f602eb",
   "metadata": {},
   "outputs": [],
   "source": [
    "persona.to_dict(fields=[\"name\", \"role\", \"goals\", \"description\"])"
   ]
  },
  {
   "cell_type": "code",
   "execution_count": null,
   "id": "09244a3c",
   "metadata": {},
   "outputs": [],
   "source": [
    "persona.to_text()"
   ]
  },
  {
   "cell_type": "code",
   "execution_count": null,
   "id": "cc66694a",
   "metadata": {},
   "outputs": [],
   "source": [
    "from agentmemory import build_prompt\n",
    "from agentmemory.instructions import Instructions, StandardInstructions\n",
    "\n",
    "instructions = Instructions(name=\"Instructions\")\n",
    "resp_instructions = Instructions(name=\"Response Instructions\")\n",
    "\n",
    "instructions.add([\n",
    "    \"Do not hallucinate — only use confirmed information.\"\n",
    "])\n",
    "resp_instructions.add([\n",
    "    StandardInstructions.MARKDOWN_RESPONSE\n",
    "])\n",
    "\n",
    "prompt = build_prompt(\n",
    "    persona=persona,\n",
    "    instructions=instructions,\n",
    "    context=\"\"  # context data etc; free to use\n",
    ")\n",
    "\n",
    "prompt"
   ]
  },
  {
   "cell_type": "code",
   "execution_count": 7,
   "id": "4ae91eca",
   "metadata": {},
   "outputs": [
    {
     "data": {
      "text/plain": [
       "UUID('7e16d4a5-bcd5-440b-8e70-fc64c4d83629')"
      ]
     },
     "execution_count": 7,
     "metadata": {},
     "output_type": "execute_result"
    }
   ],
   "source": [
    "import uuid\n",
    "\n",
    "uuid.uuid4()"
   ]
  }
 ],
 "metadata": {
  "kernelspec": {
   "display_name": ".venv",
   "language": "python",
   "name": "python3"
  },
  "language_info": {
   "codemirror_mode": {
    "name": "ipython",
    "version": 3
   },
   "file_extension": ".py",
   "mimetype": "text/x-python",
   "name": "python",
   "nbconvert_exporter": "python",
   "pygments_lexer": "ipython3",
   "version": "3.13.2"
  }
 },
 "nbformat": 4,
 "nbformat_minor": 5
}
